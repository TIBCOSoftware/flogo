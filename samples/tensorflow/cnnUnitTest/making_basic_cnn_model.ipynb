{
 "cells": [
  {
   "cell_type": "markdown",
   "metadata": {},
   "source": [
    "## Building a Simple Unit Test for the Flogo Inference Activity"
   ]
  },
  {
   "cell_type": "markdown",
   "metadata": {},
   "source": [
    "<p>The goal of this notebook is to build a simple CNN model to be used as</p>\n",
    "<ul>\n",
    "<li>A small tensorflow model to use as unit test for the Flogo Inference Activity</li>\n",
    "<li>A demonstration of building and exporting a model into a format that can be used in Flogo's inference activity.</li>\n",
    "</ul>\n",
    "<p>Therefore the \"problem\" we are going to solve with CNN is this:</p>\n",
    "<blockquote><p>Given an array of size \"size\" containing a gaussian determine whether the maximum value is in the lower half of the array (value=0) or the upper half (value=1).</p></blockquote>\n",
    "\n",
    "<p>Since this is a sample problem I will generate my own test/train data sets.</p>"
   ]
  },
  {
   "cell_type": "markdown",
   "metadata": {},
   "source": [
    "### Notebook setup\n",
    "<ul>\n",
    "<li>Modules used</li>\n",
    "<li>Meta-parameters used within notebook.</li>\n",
    "<li>Basic functions defined to expidite coding</li>\n",
    "</ul>"
   ]
  },
  {
   "cell_type": "markdown",
   "metadata": {},
   "source": [
    "#### Import Required modules - Numpy , Tensorflow, and Matplotlib/Seaborn with a few default packages as well."
   ]
  },
  {
   "cell_type": "code",
   "execution_count": 1,
   "metadata": {},
   "outputs": [],
   "source": [
    "%matplotlib inline  \n",
    "import numpy as np\n",
    "import tensorflow as tf\n",
    "import matplotlib.pyplot as plt\n",
    "import seaborn\n",
    "import random\n",
    "import math\n",
    "import time"
   ]
  },
  {
   "cell_type": "markdown",
   "metadata": {},
   "source": [
    "#### Meta Parameters"
   ]
  },
  {
   "cell_type": "code",
   "execution_count": 2,
   "metadata": {},
   "outputs": [],
   "source": [
    "size=10               # Size of the Array to contain the gaussians - MUST BE EVEN\n",
    "\n",
    "lr=5e-4               #Learning rate of the CNN \n",
    "numfilters=15          #Number of convolution windows/fliters to use \n",
    "\n",
    "batchsize=50          #Training Batch size\n",
    "eval_size=500         #Evaluation set size\n",
    "\n",
    "pstep=25             #Number of training sets at which to print out loss, accuracy, etc. of training step\n",
    "estep=100            #Number of training sets at which to test and print the reults of the Evaluation set\n",
    "train_steps=2001     #Total number of training sets - Useful to have the one at the end to make the last set \n",
    "                     #   print out\n"
   ]
  },
  {
   "cell_type": "markdown",
   "metadata": {},
   "source": [
    "#### Defining useful functions\n",
    "<ul>\n",
    "    <li> \"bell_fn\"- A function that given x,x0, alpha and beta gives the resulting gaussian of: beta*exp((x-x0)^2/alpha)</li>\n",
    "    <li> \"data_point\" - Given the size of the array needed generate an input and the corresponding training label</li>\n",
    "    <li> \"create_batch\" - Given batch size create a batch of inputs/outputs that can be used for training or testing</li>\n",
    "</ul>"
   ]
  },
  {
   "cell_type": "code",
   "execution_count": 3,
   "metadata": {},
   "outputs": [],
   "source": [
    "def bell_fn(x,x0,alpha,beta): #beta*exp((x-x0)^2/alpha)\n",
    "    xxo=x-x0\n",
    "    return beta*math.exp(-xxo*xxo/alpha)"
   ]
  },
  {
   "cell_type": "code",
   "execution_count": 4,
   "metadata": {},
   "outputs": [],
   "source": [
    "def data_point(size=10,alpha=5,beta=10):\n",
    "    #adding some noise to the default alpha and beta\n",
    "    if alpha==5 and beta==10:\n",
    "        alpha=alpha+(random.random()*2-1)\n",
    "        beta=beta+(random.random()*2-1)\n",
    "    out = np.zeros(size)\n",
    "    loc=random.random()*size\n",
    "    out=np.array([bell_fn(i,loc,alpha,beta) for i in range(size)])\n",
    "    #print(loc)\n",
    "    return out,0 if np.argmax(out) <size//2 else 1"
   ]
  },
  {
   "cell_type": "code",
   "execution_count": 5,
   "metadata": {},
   "outputs": [],
   "source": [
    "def create_batch(batchsize):\n",
    "    x=[]\n",
    "    y=[]\n",
    "    for i in range(batchsize):\n",
    "        xi,yi=data_point(size)\n",
    "        xi=[[[a]] for a in xi]\n",
    "        x.append(xi)\n",
    "        y.append(yi)\n",
    "    x=np.array(x)\n",
    "    y=np.array(y)\n",
    "    return x,y"
   ]
  },
  {
   "cell_type": "markdown",
   "metadata": {},
   "source": [
    "### Building the Graph for the model\n",
    "<p>As mentioned in the introduction, we are going to build a CNN to operate on the gaussian array of size \"size\".  We are going to use a fairly basic convolution/pooling/fully connected layered setup.  Because of the simpleness of the problem statement (and to make a smale model for the unit test) we will only use a single conv/pool/fc layer.</p>\n",
    "<p>It is worth noting that the conv2d tensorflow function is used with the second dimension and channel ranks set to 1 instead of using tf.layers.conv1d because conv1d has a bug that has been fixed in tensorflow 1.11, but currently conda only has tensoflow at 1.10.</p>"
   ]
  },
  {
   "cell_type": "code",
   "execution_count": 6,
   "metadata": {},
   "outputs": [],
   "source": [
    "#Defining placeholders (Nodes to accept input) for the input gaussian array (X) and the training labels (Y).\n",
    "X = tf.placeholder(tf.float32,[None,size,1,1],name='X')  #[batchsize,size,1]\n",
    "Y = tf.placeholder(tf.int32,[None],name='Y')     #[batchsize]\n",
    "\n",
    "#My conv/max pooling/ fully connected layers.  Notice my Pooling is choosen to divide the data into a top and \n",
    "#   bottom half to make the identification of whether the max is in the top or bottom half easier.\n",
    "conv1 = tf.layers.conv2d(inputs=X,filters=numfilters,kernel_size=[2,1],strides=1,padding='same',activation=tf.nn.relu,name='conv')\n",
    "pool1 = tf.layers.max_pooling2d(inputs=conv1, pool_size=size//2,strides=size//2,padding='same')\n",
    "pool1 = tf.reshape(pool1,[-1,numfilters*2],name='pool')\n",
    "logits = tf.layers.dense(inputs = pool1, units=2, activation=tf.nn.tanh,name='fcon1')\n",
    "\n",
    "#Using Softmax to get probabilities from the logits\n",
    "probabilities=tf.nn.softmax(logits,name='softmax')\n",
    "\n",
    "#Getting the loss, prediction, and accuracy\n",
    "loss = tf.losses.sparse_softmax_cross_entropy(labels=Y,logits=logits)#,reduction=tf.losses.Reduction.NONE)\n",
    "pred = tf.argmax(input=probabilities, axis=1,name=\"pred\")\n",
    "accuracy = tf.metrics.accuracy(labels=Y, predictions=pred)\n",
    "\n",
    "#Defining the optimization step\n",
    "train_step=tf.train.AdamOptimizer(lr).minimize(loss)"
   ]
  },
  {
   "cell_type": "markdown",
   "metadata": {},
   "source": [
    "### Creating and initializing the Tensorflow session\n",
    "<p>Remember with TF you need to define the graph (above) and then create a session to \"run\" the graph.  Here we create the session and initialize the global and local variables in the graph.  Then because the trainable variables are pretty small here we take a look at the variables in the model.  Yup should be small enough for a unit test to be stored on github.</p>"
   ]
  },
  {
   "cell_type": "code",
   "execution_count": 7,
   "metadata": {},
   "outputs": [],
   "source": [
    "sess=tf.Session()\n",
    "sess.run(tf.global_variables_initializer())\n",
    "sess.run(tf.local_variables_initializer())"
   ]
  },
  {
   "cell_type": "code",
   "execution_count": 8,
   "metadata": {},
   "outputs": [
    {
     "name": "stdout",
     "output_type": "stream",
     "text": [
      "Variable:  conv/kernel:0\n",
      "Shape:  (2, 1, 1, 15)\n",
      "[[[[ 0.3124455   0.03911668 -0.22816731  0.18111172 -0.32070804\n",
      "     0.06484324  0.15507439 -0.2589414   0.07914296  0.23594603\n",
      "    -0.1644884   0.2390627  -0.4072155  -0.07656926 -0.29182953]]]\n",
      "\n",
      "\n",
      " [[[-0.3685084  -0.18050045  0.0896301   0.14999911  0.1548188\n",
      "     0.33474723  0.23378822  0.38202962  0.01755071  0.30117908\n",
      "     0.37522277  0.30340967 -0.34644172  0.2127724  -0.26057598]]]]\n",
      "Variable:  conv/bias:0\n",
      "Shape:  (15,)\n",
      "[0. 0. 0. 0. 0. 0. 0. 0. 0. 0. 0. 0. 0. 0. 0.]\n",
      "Variable:  fcon1/kernel:0\n",
      "Shape:  (30, 2)\n",
      "[[ 0.2446551   0.23777756]\n",
      " [ 0.4295577   0.2667931 ]\n",
      " [-0.42782715  0.05270955]\n",
      " [ 0.29815903 -0.11822918]\n",
      " [ 0.00050452 -0.42741573]\n",
      " [ 0.4272459   0.22994438]\n",
      " [-0.3497372  -0.25100434]\n",
      " [ 0.12461451  0.07820824]\n",
      " [-0.36327308 -0.11236423]\n",
      " [ 0.26886454 -0.2924248 ]\n",
      " [-0.28388584 -0.2989422 ]\n",
      " [-0.05223545 -0.2276599 ]\n",
      " [-0.18197387  0.40160194]\n",
      " [ 0.20518109  0.32966128]\n",
      " [ 0.1974729   0.3220531 ]\n",
      " [ 0.16404316 -0.3330704 ]\n",
      " [ 0.08136466  0.14260796]\n",
      " [ 0.38732037  0.17442259]\n",
      " [ 0.1788185  -0.38673717]\n",
      " [-0.22687209  0.0406419 ]\n",
      " [ 0.24908563  0.16069195]\n",
      " [-0.22356299  0.37934533]\n",
      " [ 0.06353563  0.42780027]\n",
      " [ 0.42908934  0.43098518]\n",
      " [-0.2863296  -0.23091573]\n",
      " [-0.02367118 -0.0383307 ]\n",
      " [-0.09761468 -0.14817584]\n",
      " [-0.30554348 -0.21575972]\n",
      " [-0.33133447 -0.13393629]\n",
      " [ 0.11791775  0.42493823]]\n",
      "Variable:  fcon1/bias:0\n",
      "Shape:  (2,)\n",
      "[0. 0.]\n"
     ]
    }
   ],
   "source": [
    "#looking at the various trainable variables\n",
    "variables_names = [v.name for v in tf.trainable_variables()]\n",
    "values = sess.run(variables_names)\n",
    "for k, v in zip(variables_names, values):\n",
    "    print (\"Variable: \", k)\n",
    "    print (\"Shape: \", v.shape)\n",
    "    print (v)"
   ]
  },
  {
   "cell_type": "raw",
   "metadata": {},
   "source": []
  },
  {
   "cell_type": "markdown",
   "metadata": {},
   "source": [
    "### Training the model\n",
    "<p>Here we create a large batch for evaluation purposes then we train the model printing out the training and evaluation results periodically.  It is worth noting that for the default metaparamters defined above sometimes the model gets stuck in a local loss minimum where either the predictions are always 1 or 0 or the predictions are actually the opposite of the expected result.  Starting from scratch and/or changing the training rate can fix this.  Also, the number of steps to get 100% accuracy can vary wildly for the same learning rate.</p>\n",
    "<p> All of this can be improved by increasing the number of filters.  This speeds up both training and reduces chances of getting stuck in a local mazimum, but increases the size of the model, which should be as small as possible for the unit test.  Based upon testing the resulting size of the model it turns out numfilters = 15 minimize the size and maximizes stability.</p>"
   ]
  },
  {
   "cell_type": "code",
   "execution_count": 9,
   "metadata": {},
   "outputs": [],
   "source": [
    "step=0                #initialling my step count so I can use my training block multiple times without \n",
    "                      #    resetting the count.\n",
    "trainres=[]           # Saving results along the way for plotting later\n",
    "evelres=[]            # Saving results along the way for plotting later"
   ]
  },
  {
   "cell_type": "code",
   "execution_count": 10,
   "metadata": {},
   "outputs": [],
   "source": [
    "ex,ey=create_batch(eval_size)"
   ]
  },
  {
   "cell_type": "code",
   "execution_count": 11,
   "metadata": {},
   "outputs": [
    {
     "name": "stdout",
     "output_type": "stream",
     "text": [
      "Training step     0: loss = 0.58613 accuracy = 0.54000\n",
      "EVAL     0: loss = 0.70886 accuracy = 0.44800\n",
      "Training step    25: loss = 0.43587 accuracy = 0.84000\n",
      "Training step    50: loss = 0.38358 accuracy = 0.88000\n",
      "Training step    75: loss = 0.23036 accuracy = 0.98000\n",
      "Training step   100: loss = 0.20598 accuracy = 1.00000\n",
      "EVAL   100: loss = 0.21641 accuracy = 0.99000\n",
      "Training step   125: loss = 0.21126 accuracy = 0.98000\n",
      "Training step   150: loss = 0.21569 accuracy = 1.00000\n",
      "Training step   175: loss = 0.23280 accuracy = 0.96000\n",
      "Training step   200: loss = 0.17887 accuracy = 1.00000\n",
      "EVAL   200: loss = 0.18435 accuracy = 0.99200\n",
      "Training step   225: loss = 0.20992 accuracy = 1.00000\n",
      "Training step   250: loss = 0.17607 accuracy = 1.00000\n",
      "Training step   275: loss = 0.17850 accuracy = 1.00000\n",
      "Training step   300: loss = 0.21766 accuracy = 0.92000\n",
      "EVAL   300: loss = 0.17304 accuracy = 0.99600\n",
      "Training step   325: loss = 0.15414 accuracy = 1.00000\n",
      "Training step   350: loss = 0.17313 accuracy = 1.00000\n",
      "Training step   375: loss = 0.16446 accuracy = 1.00000\n",
      "Training step   400: loss = 0.15024 accuracy = 1.00000\n",
      "EVAL   400: loss = 0.16558 accuracy = 0.99000\n",
      "Training step   425: loss = 0.17004 accuracy = 0.98000\n",
      "Training step   450: loss = 0.15312 accuracy = 1.00000\n",
      "Training step   475: loss = 0.15868 accuracy = 1.00000\n",
      "Training step   500: loss = 0.16762 accuracy = 1.00000\n",
      "EVAL   500: loss = 0.16135 accuracy = 0.99200\n",
      "Training step   525: loss = 0.14295 accuracy = 1.00000\n",
      "Training step   550: loss = 0.15175 accuracy = 1.00000\n",
      "Training step   575: loss = 0.17808 accuracy = 0.98000\n",
      "Training step   600: loss = 0.15602 accuracy = 1.00000\n",
      "EVAL   600: loss = 0.15754 accuracy = 0.99400\n",
      "Training step   625: loss = 0.17074 accuracy = 0.98000\n",
      "Training step   650: loss = 0.16756 accuracy = 1.00000\n",
      "Training step   675: loss = 0.15593 accuracy = 1.00000\n",
      "Training step   700: loss = 0.17631 accuracy = 1.00000\n",
      "EVAL   700: loss = 0.15284 accuracy = 0.99200\n",
      "Training step   725: loss = 0.13856 accuracy = 1.00000\n",
      "Training step   750: loss = 0.18030 accuracy = 0.96000\n",
      "Training step   775: loss = 0.14888 accuracy = 1.00000\n",
      "Training step   800: loss = 0.18766 accuracy = 0.98000\n",
      "EVAL   800: loss = 0.14997 accuracy = 0.99600\n",
      "Training step   825: loss = 0.16449 accuracy = 0.98000\n",
      "Training step   850: loss = 0.16190 accuracy = 0.98000\n",
      "Training step   875: loss = 0.15237 accuracy = 1.00000\n",
      "Training step   900: loss = 0.19313 accuracy = 1.00000\n",
      "EVAL   900: loss = 0.14780 accuracy = 0.99200\n",
      "Training step   925: loss = 0.17830 accuracy = 1.00000\n",
      "Training step   950: loss = 0.17351 accuracy = 0.98000\n",
      "Training step   975: loss = 0.15952 accuracy = 1.00000\n",
      "Training step  1000: loss = 0.17279 accuracy = 0.98000\n",
      "EVAL  1000: loss = 0.14658 accuracy = 0.99600\n",
      "Training step  1025: loss = 0.13590 accuracy = 1.00000\n",
      "Training step  1050: loss = 0.13560 accuracy = 1.00000\n",
      "Training step  1075: loss = 0.13202 accuracy = 1.00000\n",
      "Training step  1100: loss = 0.13394 accuracy = 1.00000\n",
      "EVAL  1100: loss = 0.14538 accuracy = 0.99400\n",
      "Training step  1125: loss = 0.16967 accuracy = 1.00000\n",
      "Training step  1150: loss = 0.17313 accuracy = 1.00000\n",
      "Training step  1175: loss = 0.14891 accuracy = 1.00000\n",
      "Training step  1200: loss = 0.14862 accuracy = 1.00000\n",
      "EVAL  1200: loss = 0.14480 accuracy = 0.99600\n",
      "Training step  1225: loss = 0.14566 accuracy = 1.00000\n",
      "Training step  1250: loss = 0.13976 accuracy = 1.00000\n",
      "Training step  1275: loss = 0.14717 accuracy = 1.00000\n",
      "Training step  1300: loss = 0.15759 accuracy = 1.00000\n",
      "EVAL  1300: loss = 0.14365 accuracy = 0.99200\n",
      "Training step  1325: loss = 0.15188 accuracy = 1.00000\n",
      "Training step  1350: loss = 0.15147 accuracy = 1.00000\n",
      "Training step  1375: loss = 0.14468 accuracy = 1.00000\n",
      "Training step  1400: loss = 0.14385 accuracy = 1.00000\n",
      "EVAL  1400: loss = 0.14378 accuracy = 0.99400\n",
      "Training step  1425: loss = 0.14460 accuracy = 1.00000\n",
      "Training step  1450: loss = 0.14565 accuracy = 1.00000\n",
      "Training step  1475: loss = 0.12744 accuracy = 1.00000\n",
      "Training step  1500: loss = 0.15052 accuracy = 0.98000\n",
      "EVAL  1500: loss = 0.14245 accuracy = 0.99200\n",
      "Training step  1525: loss = 0.14147 accuracy = 1.00000\n",
      "Training step  1550: loss = 0.13878 accuracy = 1.00000\n",
      "Training step  1575: loss = 0.13959 accuracy = 1.00000\n",
      "Training step  1600: loss = 0.15934 accuracy = 1.00000\n",
      "EVAL  1600: loss = 0.14194 accuracy = 0.99200\n",
      "Training step  1625: loss = 0.15742 accuracy = 0.98000\n",
      "Training step  1650: loss = 0.15987 accuracy = 0.98000\n",
      "Training step  1675: loss = 0.15515 accuracy = 1.00000\n",
      "Training step  1700: loss = 0.14067 accuracy = 1.00000\n",
      "EVAL  1700: loss = 0.14189 accuracy = 0.99600\n",
      "Training step  1725: loss = 0.13693 accuracy = 1.00000\n",
      "Training step  1750: loss = 0.13698 accuracy = 1.00000\n",
      "Training step  1775: loss = 0.13315 accuracy = 1.00000\n",
      "Training step  1800: loss = 0.13444 accuracy = 1.00000\n",
      "EVAL  1800: loss = 0.14099 accuracy = 0.99400\n",
      "Training step  1825: loss = 0.14646 accuracy = 1.00000\n",
      "Training step  1850: loss = 0.14200 accuracy = 1.00000\n",
      "Training step  1875: loss = 0.14024 accuracy = 1.00000\n",
      "Training step  1900: loss = 0.13113 accuracy = 1.00000\n",
      "EVAL  1900: loss = 0.14064 accuracy = 0.99200\n",
      "Training step  1925: loss = 0.13708 accuracy = 1.00000\n",
      "Training step  1950: loss = 0.15684 accuracy = 1.00000\n",
      "Training step  1975: loss = 0.14709 accuracy = 1.00000\n",
      "Training step  2000: loss = 0.13718 accuracy = 1.00000\n",
      "EVAL  2000: loss = 0.14159 accuracy = 0.99400\n"
     ]
    }
   ],
   "source": [
    "if step:\n",
    "    train_steps+=step\n",
    "\n",
    "for step in range(step,train_steps):\n",
    "    \n",
    "    xb,yb=create_batch(batchsize)\n",
    "\n",
    "    feed_dict={X:xb,Y:yb}\n",
    "    _,(ac,ac_op),lo,pr=sess.run([train_step,accuracy,loss,pred],feed_dict=feed_dict)\n",
    "    \n",
    "    if step%pstep==0:\n",
    "        ac=1-sum(np.fabs(pr-yb))/len(yb)\n",
    "        s=\"Training step {:5d}: loss = {:7.5f} accuracy = {:7.5f}\".format(step,lo,ac)\n",
    "        print(s)\n",
    "        trainres.append([step,lo,ac])\n",
    "\n",
    "    if step%estep==0:\n",
    "        feed_dict={X:ex,Y:ey}#,lr:1e-3}\n",
    "        (ac,ac_op),lo,pr2=sess.run([accuracy,loss,pred],feed_dict=feed_dict)\n",
    "        ac2=1-sum(np.fabs(pr2-ey))/len(ey)\n",
    "        print(\"EVAL {:5d}: loss = {:7.5f} accuracy = {:7.5f}\".format(step,lo,ac2))\n",
    "        evelres.append([step,lo,ac2])\n",
    " "
   ]
  },
  {
   "cell_type": "code",
   "execution_count": 12,
   "metadata": {},
   "outputs": [
    {
     "name": "stdout",
     "output_type": "stream",
     "text": [
      "Predicted Output of Evaluation set:\n",
      "[1 1 0 1 1 1 1 1 0 1 1 0 1 1 0 1 1 0 1 1 0 0 0 1 1 1 0 1 0 0 1 1 1 1 0 1 0\n",
      " 0 1 1 1 0 1 1 0 0 0 1 0 1 1 0 1 0 0 0 0 1 1 0 0 1 0 1 0 1 1 0 1 0 1 1 0 0\n",
      " 1 0 1 0 1 1 1 0 1 1 0 0 1 0 1 0 0 1 0 0 1 1 1 1 0 0 1 0 1 0 0 1 0 1 1 1 1\n",
      " 0 1 0 1 0 0 1 1 1 1 0 1 0 1 0 1 1 0 0 1 1 1 1 1 0 0 0 0 0 1 1 1 1 0 1 0 0\n",
      " 1 1 1 1 0 0 1 0 1 1 1 0 1 1 0 1 1 1 0 1 1 1 1 0 0 1 0 0 1 1 1 0 1 1 0 0 1\n",
      " 1 0 0 1 0 1 1 1 1 0 0 1 0 0 0 1 1 1 1 0 0 1 0 0 1 0 0 1 1 1 1 1 0 0 0 0 0\n",
      " 1 1 0 1 1 1 0 0 0 1 0 0 0 0 1 1 0 0 0 1 1 1 1 1 0 0 1 0 0 1 1 1 0 1 0 0 0\n",
      " 0 1 0 0 0 1 1 1 1 1 1 0 0 1 1 0 0 0 1 0 1 0 1 1 1 1 0 0 1 1 0 1 1 1 1 0 1\n",
      " 1 1 0 1 1 0 0 0 0 1 1 0 1 1 0 1 0 1 1 1 1 0 1 1 0 1 1 0 1 1 1 0 1 1 0 1 1\n",
      " 1 1 1 1 1 0 1 1 0 1 1 0 0 1 0 0 0 1 0 1 0 1 0 1 1 0 0 1 1 1 1 1 0 1 1 0 0\n",
      " 0 1 1 1 1 1 0 0 0 1 1 1 0 1 1 1 0 0 0 1 1 1 0 0 0 0 1 1 0 1 1 0 0 1 0 1 0\n",
      " 0 0 1 1 0 0 0 0 1 1 0 0 0 1 1 1 0 1 1 0 1 1 1 1 1 1 1 0 1 1 0 0 1 0 1 1 0\n",
      " 0 0 1 1 0 1 1 0 0 1 0 1 1 0 1 1 1 0 0 0 1 0 0 1 1 1 0 0 0 1 1 1 1 1 0 1 0\n",
      " 0 0 1 0 0 1 0 1 0 1 0 0 1 0 0 0 0 1 1]\n",
      "Evalutation Set Labels:\n",
      "[1 1 0 1 1 1 1 1 0 1 1 0 1 1 0 1 1 0 1 1 0 0 0 1 1 1 0 1 0 0 1 1 1 1 0 1 0\n",
      " 0 1 1 1 0 1 1 0 0 0 1 0 1 1 0 1 0 0 0 0 1 1 0 0 1 0 1 0 1 1 0 1 0 1 1 0 0\n",
      " 1 0 1 0 1 1 1 0 1 1 0 0 1 0 1 0 0 1 0 0 1 1 1 1 0 0 1 0 1 0 0 1 0 1 1 1 1\n",
      " 0 1 0 1 0 0 1 1 1 1 0 1 0 1 0 1 1 0 0 1 1 1 1 1 0 0 0 0 0 1 1 1 1 0 1 0 0\n",
      " 1 1 1 1 0 0 1 0 1 1 1 0 1 1 0 1 1 1 0 1 1 1 1 0 0 1 0 0 1 1 1 0 1 1 0 0 1\n",
      " 1 0 0 1 0 1 1 1 1 0 0 1 0 0 0 1 1 1 1 0 0 1 0 0 1 0 0 1 1 1 1 1 0 0 0 0 0\n",
      " 1 1 0 1 1 1 0 0 0 1 0 0 0 0 1 1 0 0 0 1 1 1 1 1 0 0 1 0 0 1 1 1 0 1 0 0 0\n",
      " 0 1 0 0 0 1 1 1 1 1 1 0 0 1 1 0 0 0 1 0 1 0 1 1 1 0 0 0 1 1 0 1 1 1 1 0 1\n",
      " 1 1 0 1 1 0 0 0 0 1 1 0 1 1 0 1 0 1 1 1 1 0 1 1 0 1 1 0 1 1 1 0 1 1 0 1 1\n",
      " 1 1 1 1 1 0 1 1 0 1 1 0 0 1 0 0 0 1 0 1 0 1 0 1 1 0 0 1 1 1 1 1 0 1 1 0 0\n",
      " 0 1 1 1 1 1 0 0 0 1 1 1 0 1 1 1 0 0 0 1 1 1 0 0 0 0 0 1 0 1 1 0 0 1 0 1 0\n",
      " 0 0 1 1 0 0 0 0 1 1 0 0 0 1 1 1 0 1 1 0 1 1 1 1 1 1 1 0 1 1 0 0 1 0 1 1 0\n",
      " 0 0 1 1 0 1 1 0 0 1 0 1 1 0 1 1 1 0 0 0 1 0 0 1 1 1 0 0 0 1 1 1 1 1 0 1 0\n",
      " 0 0 1 0 0 1 0 1 0 1 0 0 1 0 0 0 0 0 1]\n"
     ]
    }
   ],
   "source": [
    "print(\"Predicted Output of Evaluation set:\")\n",
    "print(pr2)\n",
    "print(\"Evalutation Set Labels:\")\n",
    "print(ey)"
   ]
  },
  {
   "cell_type": "markdown",
   "metadata": {},
   "source": [
    "### Printing Loss and Accuracy for training and Evaluation sets"
   ]
  },
  {
   "cell_type": "code",
   "execution_count": 13,
   "metadata": {},
   "outputs": [],
   "source": [
    "tr=np.array(trainres)\n",
    "ev=np.array(evelres)"
   ]
  },
  {
   "cell_type": "markdown",
   "metadata": {},
   "source": [
    "<p><b>Note</b>: that training is done with new data (i.e. not previously seen by the model) at every step without epocs.  This means the training and evaluation data are comparable.</p>"
   ]
  },
  {
   "cell_type": "code",
   "execution_count": 14,
   "metadata": {},
   "outputs": [
    {
     "data": {
      "image/png": "[encoded data removed]",
      "text/plain": [
       "<Figure size 432x288 with 1 Axes>"
      ]
     },
     "metadata": {
      "needs_background": "light"
     },
     "output_type": "display_data"
    }
   ],
   "source": [
    "plt.title('Loss versus training step.')\n",
    "plt.xlabel('Training Step')\n",
    "plt.ylabel('Loss (sparse softmax cross entropy)')\n",
    "plt.plot(tr[:,0],tr[:,1],label='Train')\n",
    "plt.plot(ev[:,0],ev[:,1],label='Eval')\n",
    "plt.legend()\n",
    "plt.show()"
   ]
  },
  {
   "cell_type": "code",
   "execution_count": 15,
   "metadata": {},
   "outputs": [
    {
     "data": {
      "image/png": "[encoded data removed]",
      "text/plain": [
       "<Figure size 432x288 with 1 Axes>"
      ]
     },
     "metadata": {
      "needs_background": "light"
     },
     "output_type": "display_data"
    }
   ],
   "source": [
    "plt.title('Accuracy versus training step.')\n",
    "plt.xlabel('Training Step')\n",
    "plt.ylabel('Accuracy: 1-sum(Abs(Predicted-Label))/Batchsize')\n",
    "plt.plot(tr[:,0],tr[:,2],label='Train')\n",
    "plt.plot(ev[:,0],ev[:,2],label='Eval')\n",
    "plt.legend()\n",
    "plt.show()"
   ]
  },
  {
   "cell_type": "markdown",
   "metadata": {},
   "source": [
    "### Exporting/Saving the model to file\n",
    "<p>The standard output format of TensorFlow is the SavedModel format containing a protobuf (*.pb) file and a variables directory containing the values of the trainable variables.  Flogo reads this in assuming that the protobuf file contains the appropriate metadata.  Below we use the simple_save function to define the metadata (containing inputs and outputs) and write to file.  We also use the write_graph function to export the protobuf into readable text.  However this *pbtxt file does not contain the metadata.</p>"
   ]
  },
  {
   "cell_type": "code",
   "execution_count": 16,
   "metadata": {},
   "outputs": [
    {
     "name": "stdout",
     "output_type": "stream",
     "text": [
      "154031266409\n",
      "INFO:tensorflow:Assets added to graph.\n",
      "INFO:tensorflow:No assets to write.\n",
      "INFO:tensorflow:SavedModel written to: ./SimpleCNNModel/154031266409/saved_model.pb\n"
     ]
    },
    {
     "data": {
      "text/plain": [
       "'./SimpleCNNTextModel/154031266409/train.pbtxt'"
      ]
     },
     "execution_count": 16,
     "metadata": {},
     "output_type": "execute_result"
    }
   ],
   "source": [
    "t=\"%d\"%int(time.time()*100)\n",
    "print(t)\n",
    "path=\"./SimpleCNNModel/{:s}/\".format(t)\n",
    "inputs={\"X\":X}\n",
    "outputs={\"pred\":pred}\n",
    "tf.saved_model.simple_save(sess, path,inputs=inputs,outputs=outputs)\n",
    "tf.train.write_graph(sess.graph, './SimpleCNNTextModel/{:s}/'.format(t), 'train.pbtxt',as_text=True)"
   ]
  },
  {
   "cell_type": "code",
   "execution_count": null,
   "metadata": {},
   "outputs": [],
   "source": []
  }
 ],
 "metadata": {
  "kernelspec": {
   "display_name": "Python 3",
   "language": "python",
   "name": "python3"
  },
  "language_info": {
   "codemirror_mode": {
    "name": "ipython",
    "version": 3
   },
   "file_extension": ".py",
   "mimetype": "text/x-python",
   "name": "python",
   "nbconvert_exporter": "python",
   "pygments_lexer": "ipython3",
   "version": "3.6.6"
  }
 },
 "nbformat": 4,
 "nbformat_minor": 2
}
